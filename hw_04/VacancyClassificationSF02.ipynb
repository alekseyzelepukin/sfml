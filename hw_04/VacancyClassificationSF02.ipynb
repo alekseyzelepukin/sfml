{
 "cells": [
  {
   "cell_type": "code",
   "execution_count": 1,
   "metadata": {},
   "outputs": [],
   "source": [
    "# https://www.kaggle.com/c/vacancy-classification-sf02"
   ]
  },
  {
   "cell_type": "code",
   "execution_count": 25,
   "metadata": {},
   "outputs": [],
   "source": [
    "import pandas as pd\n",
    "import nltk\n",
    "from bs4 import BeautifulSoup\n",
    "from sklearn.feature_extraction.text import CountVectorizer\n",
    "from sklearn.feature_extraction.text import TfidfVectorizer\n",
    "from sklearn.model_selection import train_test_split\n",
    "from sklearn.ensemble import RandomForestClassifier\n",
    "from sklearn.linear_model import LogisticRegression\n",
    "from sklearn.tree import DecisionTreeClassifier\n",
    "from sklearn.neighbors import KNeighborsClassifier\n",
    "from sklearn.naive_bayes import GaussianNB\n",
    "from sklearn.ensemble import GradientBoostingClassifier\n",
    "from sklearn.pipeline import Pipeline\n",
    "from sklearn.metrics import roc_auc_score"
   ]
  },
  {
   "cell_type": "code",
   "execution_count": 2,
   "metadata": {},
   "outputs": [
    {
     "data": {
      "text/html": [
       "<div>\n",
       "<style scoped>\n",
       "    .dataframe tbody tr th:only-of-type {\n",
       "        vertical-align: middle;\n",
       "    }\n",
       "\n",
       "    .dataframe tbody tr th {\n",
       "        vertical-align: top;\n",
       "    }\n",
       "\n",
       "    .dataframe thead th {\n",
       "        text-align: right;\n",
       "    }\n",
       "</style>\n",
       "<table border=\"1\" class=\"dataframe\">\n",
       "  <thead>\n",
       "    <tr style=\"text-align: right;\">\n",
       "      <th></th>\n",
       "      <th>name</th>\n",
       "      <th>description</th>\n",
       "      <th>target</th>\n",
       "    </tr>\n",
       "    <tr>\n",
       "      <th>id</th>\n",
       "      <th></th>\n",
       "      <th></th>\n",
       "      <th></th>\n",
       "    </tr>\n",
       "  </thead>\n",
       "  <tbody>\n",
       "    <tr>\n",
       "      <th>0</th>\n",
       "      <td>Заведующий отделом/секцией в магазин YORK (Уру...</td>\n",
       "      <td>&lt;p&gt;&lt;strong&gt;В НОВЫЙ МАГАЗИН YORK (хозтовары) пр...</td>\n",
       "      <td>1</td>\n",
       "    </tr>\n",
       "    <tr>\n",
       "      <th>1</th>\n",
       "      <td>Наладчик станков и манипуляторов с ПУ</td>\n",
       "      <td>Обязанности:работа на токарных станках с ЧПУ T...</td>\n",
       "      <td>0</td>\n",
       "    </tr>\n",
       "    <tr>\n",
       "      <th>2</th>\n",
       "      <td>Разработчик С++ (Криптограф)</td>\n",
       "      <td>&lt;strong&gt;Требования:&lt;/strong&gt; &lt;ul&gt; &lt;li&gt;Опыт про...</td>\n",
       "      <td>0</td>\n",
       "    </tr>\n",
       "    <tr>\n",
       "      <th>3</th>\n",
       "      <td>Фрезеровщик</td>\n",
       "      <td>&lt;p&gt;Условия:&lt;/p&gt; &lt;ul&gt; &lt;li&gt;На работу вахтовым ме...</td>\n",
       "      <td>0</td>\n",
       "    </tr>\n",
       "    <tr>\n",
       "      <th>4</th>\n",
       "      <td>Мерчендайзер/продавец-консультант</td>\n",
       "      <td>&lt;p&gt;&lt;strong&gt;Компания Палладиум Стандарт - призн...</td>\n",
       "      <td>1</td>\n",
       "    </tr>\n",
       "  </tbody>\n",
       "</table>\n",
       "</div>"
      ],
      "text/plain": [
       "                                                 name  \\\n",
       "id                                                      \n",
       "0   Заведующий отделом/секцией в магазин YORK (Уру...   \n",
       "1               Наладчик станков и манипуляторов с ПУ   \n",
       "2                        Разработчик С++ (Криптограф)   \n",
       "3                                         Фрезеровщик   \n",
       "4                   Мерчендайзер/продавец-консультант   \n",
       "\n",
       "                                          description  target  \n",
       "id                                                             \n",
       "0   <p><strong>В НОВЫЙ МАГАЗИН YORK (хозтовары) пр...       1  \n",
       "1   Обязанности:работа на токарных станках с ЧПУ T...       0  \n",
       "2   <strong>Требования:</strong> <ul> <li>Опыт про...       0  \n",
       "3   <p>Условия:</p> <ul> <li>На работу вахтовым ме...       0  \n",
       "4   <p><strong>Компания Палладиум Стандарт - призн...       1  "
      ]
     },
     "execution_count": 2,
     "metadata": {},
     "output_type": "execute_result"
    }
   ],
   "source": [
    "train = pd.read_csv('train.csv', sep='\\t', index_col='id')\n",
    "test = pd.read_csv('test.csv', sep='\\t', index_col='id')\n",
    "train.head()"
   ]
  },
  {
   "cell_type": "code",
   "execution_count": 9,
   "metadata": {},
   "outputs": [
    {
     "data": {
      "text/plain": [
       "id\n",
       "0    Заведующий отделом/секцией в магазин YORK (Уру...\n",
       "1    Наладчик станков и манипуляторов с ПУ Обязанно...\n",
       "2    Разработчик С++ (Криптограф) <strong>Требовани...\n",
       "3    Фрезеровщик <p>Условия:</p> <ul> <li>На работу...\n",
       "4    Мерчендайзер/продавец-консультант <p><strong>К...\n",
       "Name: text, dtype: object"
      ]
     },
     "execution_count": 9,
     "metadata": {},
     "output_type": "execute_result"
    }
   ],
   "source": [
    "train.loc[:, 'text'] = train['name']+' '+train['description']\n",
    "test.loc[:, 'text'] = test['name']+' '+test['description']\n",
    "train['text'][:5]"
   ]
  },
  {
   "cell_type": "code",
   "execution_count": 10,
   "metadata": {},
   "outputs": [],
   "source": [
    "train_wo_tags = []\n",
    "for t in train['text']:\n",
    "    train_wo_tags.append(\n",
    "        BeautifulSoup(t, 'lxml').text\n",
    "    )\n",
    "\n",
    "test_wo_tags = []\n",
    "for t in test['text']:\n",
    "    test_wo_tags.append(\n",
    "        BeautifulSoup(t, 'lxml').text\n",
    "    )"
   ]
  },
  {
   "cell_type": "code",
   "execution_count": 8,
   "metadata": {},
   "outputs": [
    {
     "data": {
      "text/plain": [
       "0.9897672024061035"
      ]
     },
     "execution_count": 8,
     "metadata": {},
     "output_type": "execute_result"
    }
   ],
   "source": [
    "X_train, X_test, y_train, y_test = train_test_split(train_wo_tags, train['target'], test_size=0.2, shuffle=True, random_state=42)\n",
    "\n",
    "stop_words = nltk.corpus.stopwords.words('russian')\n",
    "\n",
    "model = Pipeline([\n",
    "    ('vect', TfidfVectorizer(stop_words=stop_words,\n",
    "                             ngram_range=(1,1),\n",
    "                             max_df=0.95, min_df=5)),\n",
    "    ('clf', LogisticRegression(random_state=42)),\n",
    "])\n",
    "\n",
    "model.fit(X_train, y_train)\n",
    "\n",
    "roc_auc_score(y_test, model.predict_proba(X_test)[:,1])"
   ]
  },
  {
   "cell_type": "code",
   "execution_count": 6,
   "metadata": {},
   "outputs": [
    {
     "data": {
      "text/plain": [
       "0.9846920048449948"
      ]
     },
     "execution_count": 6,
     "metadata": {},
     "output_type": "execute_result"
    }
   ],
   "source": [
    "model2 = Pipeline([\n",
    "    ('vect', CountVectorizer(stop_words=stop_words, \n",
    "                             ngram_range=(1,1))),\n",
    "    ('clf', LogisticRegression(random_state=42)),\n",
    "])\n",
    "\n",
    "model2.fit(X_train, y_train)\n",
    "\n",
    "roc_auc_score(y_test, model2.predict_proba(X_test)[:,1])"
   ]
  },
  {
   "cell_type": "code",
   "execution_count": 41,
   "metadata": {},
   "outputs": [],
   "source": [
    "# previous best result\n",
    "submission = pd.DataFrame()\n",
    "submission.loc[:,'id'] = test.reset_index()['id']\n",
    "submission.loc[:,'target'] = model.predict_proba(test_wo_tags)[:, 1]\n",
    "submission.to_csv('submission.csv', sep=',', index=False, encoding='utf-8')"
   ]
  },
  {
   "cell_type": "code",
   "execution_count": 44,
   "metadata": {},
   "outputs": [],
   "source": [
    "stop_words = nltk.corpus.stopwords.words('russian')\n",
    "vect = CountVectorizer(stop_words=stop_words,\n",
    "                             ngram_range=(1,1),\n",
    "                             max_df=0.95, min_df=5)\n",
    "X = vect.fit_transform(train_wo_tags)\n",
    "y = train['target']\n",
    "X_new = vect.transform(test_wo_tags)"
   ]
  },
  {
   "cell_type": "code",
   "execution_count": 45,
   "metadata": {},
   "outputs": [],
   "source": [
    "models = [\n",
    "    RandomForestClassifier(random_state=42),\n",
    "    LogisticRegression(random_state=42)\n",
    "    ]"
   ]
  },
  {
   "cell_type": "code",
   "execution_count": 46,
   "metadata": {},
   "outputs": [],
   "source": [
    "def roc_auc_score_cust(y_true, y_hat):\n",
    "    return roc_auc_score(y_true, y_hat[:,1])"
   ]
  },
  {
   "cell_type": "code",
   "execution_count": 47,
   "metadata": {},
   "outputs": [
    {
     "name": "stdout",
     "output_type": "stream",
     "text": [
      "task:         [classification]\n",
      "n_classes:    [2]\n",
      "metric:       [roc_auc_score_cust]\n",
      "mode:         [oof_pred_bag]\n",
      "n_models:     [2]\n",
      "\n",
      "model  0:     [RandomForestClassifier]\n",
      "    fold  0:  [0.98689589]\n",
      "    fold  1:  [0.98647909]\n",
      "    fold  2:  [0.98685573]\n",
      "    ----\n",
      "    MEAN:     [0.98674357] + [0.00018773]\n",
      "    FULL:     [0.98674363]\n",
      "\n",
      "model  1:     [LogisticRegression]\n",
      "    fold  0:  [0.98897560]\n",
      "    fold  1:  [0.98949196]\n",
      "    fold  2:  [0.98915512]\n",
      "    ----\n",
      "    MEAN:     [0.98920756] + [0.00021404]\n",
      "    FULL:     [0.98920354]\n",
      "\n"
     ]
    },
    {
     "data": {
      "text/plain": [
       "0.9924187194469127"
      ]
     },
     "execution_count": 47,
     "metadata": {},
     "output_type": "execute_result"
    }
   ],
   "source": [
    "from vecstack import stacking\n",
    "\n",
    "S_train, S_valid = stacking(models,\n",
    "                               X, y, X_new,\n",
    "                               regression=False,\n",
    "                               mode='oof_pred_bag', \n",
    "                               needs_proba=True,\n",
    "                               metric=roc_auc_score_cust,\n",
    "                               n_folds=3,                \n",
    "                               stratified=True,          \n",
    "                               shuffle=True,             \n",
    "                               random_state=42,         \n",
    "                               verbose=2)\n",
    "\n",
    "last_model = GradientBoostingClassifier(n_estimators=300, max_depth=3,\n",
    "                                       learning_rate=0.01,\n",
    "                                       random_state=42)\n",
    "last_model.fit(S_train, y)\n",
    "y_hat = last_model.predict_proba(S_valid)\n",
    "\n",
    "roc_auc_score(y, last_model.predict_proba(S_train)[:,1])"
   ]
  },
  {
   "cell_type": "code",
   "execution_count": 48,
   "metadata": {},
   "outputs": [],
   "source": [
    "# actual best result\n",
    "submission = pd.DataFrame()\n",
    "submission.loc[:,'id'] = test.reset_index()['id']\n",
    "submission.loc[:,'target'] = y_hat[:, 1]\n",
    "submission.to_csv('submission.csv', sep=',', index=False, encoding='utf-8')"
   ]
  }
 ],
 "metadata": {
  "kernelspec": {
   "display_name": "Python 3",
   "language": "python",
   "name": "python3"
  },
  "language_info": {
   "codemirror_mode": {
    "name": "ipython",
    "version": 3
   },
   "file_extension": ".py",
   "mimetype": "text/x-python",
   "name": "python",
   "nbconvert_exporter": "python",
   "pygments_lexer": "ipython3",
   "version": "3.6.5"
  }
 },
 "nbformat": 4,
 "nbformat_minor": 2
}
